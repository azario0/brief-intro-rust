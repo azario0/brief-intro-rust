{
 "cells": [
  {
   "cell_type": "markdown",
   "metadata": {},
   "source": [
    "# Brief introduction to Rust lang"
   ]
  },
  {
   "cell_type": "markdown",
   "metadata": {},
   "source": [
    "println!: This is a macro that is used to print text to the console. The ! at the end indicates that it's a macro, not a function.\n",
    "\n",
    "\"Hello World!\": This is the text that will be printed to the console."
   ]
  },
  {
   "cell_type": "code",
   "execution_count": 4,
   "metadata": {
    "vscode": {
     "languageId": "rust"
    }
   },
   "outputs": [
    {
     "name": "stdout",
     "output_type": "stream",
     "text": [
      "Hello World !\n"
     ]
    }
   ],
   "source": [
    "println!(\"Hello World !\");"
   ]
  },
  {
   "cell_type": "markdown",
   "metadata": {},
   "source": [
    "let tuple: (i32, f64, u8) = (500, 6.4, 1);\n",
    "This line creates a tuple named tuple with three elements:\n",
    "\n",
    "    500 (an integer),\n",
    "    6.4 (a floating-point number), and\n",
    "    1 (an unsigned integer).\n",
    "\n",
    "Tuple destructuring:\n",
    "\n",
    "    let (x, y, z) = tuple;\n",
    "    This line destructures the tuple, assigning the first element to x, the second to y, and the third to z.\n",
    "\n",
    "Accessing tuple elements:\n",
    "\n",
    "    println!(\"First value: {}\", tuple.0);\n",
    "    This line prints the first element of the tuple (which is 500) to the console."
   ]
  },
  {
   "cell_type": "code",
   "execution_count": 5,
   "metadata": {
    "vscode": {
     "languageId": "rust"
    }
   },
   "outputs": [
    {
     "name": "stdout",
     "output_type": "stream",
     "text": [
      "First value: 500\n"
     ]
    }
   ],
   "source": [
    "let tuple: (i32, f64, u8) = (500, 6.4, 1);\n",
    "let (x, y, z) = tuple; \n",
    "println!(\"First value: {}\", tuple.0);"
   ]
  },
  {
   "cell_type": "markdown",
   "metadata": {},
   "source": [
    "Array creation:\n",
    "\n",
    "    let array = [1, 2, 3, 4, 5];\n",
    "    This line creates an array named array with five elements: 1, 2, 3, 4, and 5.\n",
    "\n",
    "Accessing array elements:\n",
    "\n",
    "    println!(\"Element at index 0: {}\", array[0]);\n",
    "    This line prints the first element of the array (which is 1) to the console. In Rust, array indexing starts from 0, so array[0] refers to the first element."
   ]
  },
  {
   "cell_type": "code",
   "execution_count": null,
   "metadata": {
    "vscode": {
     "languageId": "rust"
    }
   },
   "outputs": [
    {
     "name": "stdout",
     "output_type": "stream",
     "text": [
      "Element at index 0: 1\n"
     ]
    }
   ],
   "source": [
    "let array = [1, 2, 3, 4, 5];\n",
    "println!(\"Element at index 0: {}\", array[0]);"
   ]
  },
  {
   "cell_type": "markdown",
   "metadata": {},
   "source": [
    "String creation:\n",
    "\n",
    "    let s = String::from(\"Hello, Rust!\");\n",
    "    This line creates a new String object named s with the value \"Hello, Rust!\".\n",
    "\n",
    "String slicing:\n",
    "\n",
    "    let slice = &s[0..6];\n",
    "    This line creates a string slice named slice that refers to a portion of the original String s.\n",
    "    &s indicates that slice is a reference to the original String, ensuring memory efficiency.\n",
    "    [0..6] specifies the range of characters to include in the slice:\n",
    "        0 is the starting index (inclusive).\n",
    "        6 is the ending index (exclusive).\n",
    "        Therefore, the slice will contain the characters from index 0 to 5, resulting in \"Hello,\".\n",
    "\n",
    "Printing the slice:\n",
    "\n",
    "    println!(\"Slice: {}\", slice);\n",
    "    This line prints the value of the slice to the console, which will be \"Hello,\"."
   ]
  },
  {
   "cell_type": "code",
   "execution_count": 13,
   "metadata": {
    "vscode": {
     "languageId": "rust"
    }
   },
   "outputs": [
    {
     "name": "stdout",
     "output_type": "stream",
     "text": [
      "Slice: Hello,\n"
     ]
    }
   ],
   "source": [
    "{\n",
    "let s = String::from(\"Hello, Rust!\");\n",
    "let slice = &s[0..6];\n",
    "println!(\"Slice: {}\", slice);\n",
    "};"
   ]
  },
  {
   "cell_type": "markdown",
   "metadata": {},
   "source": [
    " Function greet:\n",
    "\n",
    "    fn greet(name: &str):\n",
    "        This line defines a function named greet that takes one parameter:\n",
    "            name: A reference to a string (&str). This means the function receives a borrow of the string, not ownership.\n",
    "    println!(\"Hello, {}!\", name);:\n",
    "        This line uses string formatting to print the greeting message to the console. The {} placeholder is replaced with the value of the name parameter.\n",
    "\n",
    " Function add:\n",
    "\n",
    "    fn add(a: i32, b: i32) -> i32:\n",
    "        This line defines a function named add that takes two integer parameters:\n",
    "            a: The first integer.\n",
    "            b: The second integer.\n",
    "        -> i32: This part specifies that the function will return an integer value.\n",
    "    a + b:\n",
    "        This line calculates the sum of the two input integers.\n",
    "        In Rust, if the last expression in a function body is not followed by a semicolon, it is implicitly returned as the function's result."
   ]
  },
  {
   "cell_type": "code",
   "execution_count": 16,
   "metadata": {
    "vscode": {
     "languageId": "rust"
    }
   },
   "outputs": [
    {
     "name": "stdout",
     "output_type": "stream",
     "text": [
      "Hello, World!\n",
      "5 + 3 = 8\n"
     ]
    }
   ],
   "source": [
    "fn greet(name: &str) {\n",
    "    println!(\"Hello, {}!\", name);\n",
    "}\n",
    "\n",
    "fn add(a: i32, b: i32) -> i32 {\n",
    "    a + b // Implicit return without semicolon\n",
    "}\n",
    "\n",
    " // Call the greet function\n",
    " greet(\"World\"); \n",
    "\n",
    " // Call the add function and print the result\n",
    " let sum = add(5, 3); \n",
    " println!(\"5 + 3 = {}\", sum); "
   ]
  },
  {
   "cell_type": "markdown",
   "metadata": {},
   "source": [
    "Variable declaration:\n",
    "\n",
    "    let number = 6;\n",
    "    This line declares a variable named number and assigns the integer value 6 to it.\n",
    "\n",
    "Conditional check:\n",
    "\n",
    "    if number % 2 == 0 { ... } else { ... };\n",
    "    This is an if-else block, which is a control flow structure that executes different code blocks based on a condition.\n",
    "    number % 2: This calculates the remainder when number is divided by 2.\n",
    "    == 0: This checks if the remainder is equal to 0. If the remainder is 0, it means the number is divisible by 2, and therefore even.\n",
    "\n",
    "Output:\n",
    "\n",
    "    println!(\"Even\");: If the condition (number % 2 == 0) is true (i.e., the number is even), this line prints \"Even\" to the console.\n",
    "    println!(\"Odd\");: If the condition is false (i.e., the number is odd), this line prints \"Odd\" to the console."
   ]
  },
  {
   "cell_type": "code",
   "execution_count": null,
   "metadata": {
    "vscode": {
     "languageId": "rust"
    }
   },
   "outputs": [
    {
     "name": "stdout",
     "output_type": "stream",
     "text": [
      "Even\n"
     ]
    }
   ],
   "source": [
    "let number = 6;\n",
    "if number % 2 == 0 {\n",
    "    println!(\"Even\");\n",
    "} else {\n",
    "    println!(\"Odd\");\n",
    "};"
   ]
  },
  {
   "cell_type": "markdown",
   "metadata": {},
   "source": [
    "Infinite Loop (with break):\n",
    "\n",
    "    loop { ... }: This creates an infinite loop. The code within the curly braces will continue to execute indefinitely.\n",
    "    println!(\"Running forever\");: This line prints \"Running forever\" to the console within each iteration of the loop.\n",
    "    break;: This keyword immediately exits the loop, preventing it from running forever.\n",
    "\n",
    "While Loop:\n",
    "\n",
    "    let mut count = 0;: This declares a mutable variable named count and initializes it with the value 0. The mut keyword allows the value of count to be changed later.\n",
    "    while count < 5 { ... }: This is a while loop. The code within the curly braces will continue to execute as long as the condition count < 5 remains true.\n",
    "    println!(\"{}\", count);: This line prints the current value of count to the console.\n",
    "    count += 1;: This line increments the value of count by 1 in each iteration of the loop.\n",
    "\n",
    "For Loop:\n",
    "\n",
    "    for number in 1..5 { ... }: This is a for loop that iterates over a range of values.\n",
    "        1..5: This creates a range of numbers from 1 (inclusive) to 5 (exclusive).\n",
    "        In each iteration, the variable number will take on the next value in the range.\n",
    "    println!(\"{}\", number);: This line prints the current value of number to the console."
   ]
  },
  {
   "cell_type": "code",
   "execution_count": null,
   "metadata": {
    "vscode": {
     "languageId": "rust"
    }
   },
   "outputs": [
    {
     "name": "stdout",
     "output_type": "stream",
     "text": [
      "------------------------\n",
      "loop\n",
      "Running forever\n",
      "------------------------\n",
      "while loop\n",
      "0\n",
      "1\n",
      "2\n",
      "3\n",
      "4\n",
      "------------------------\n",
      "for loop\n",
      "1\n",
      "2\n",
      "3\n",
      "4\n"
     ]
    }
   ],
   "source": [
    "println!(\"loop\");\n",
    "loop {println!(\"Running forever\");\n",
    "    break; };\n",
    "println!(\"while loop\");\n",
    "let mut count = 0;\n",
    "while count < 5 {\n",
    "    println!(\"{}\", count);\n",
    "    count += 1;};\n",
    "println!(\"for loop\");\n",
    "for number in 1..5 { // 1 to 4\n",
    "    println!(\"{}\", number);\n",
    "};"
   ]
  },
  {
   "cell_type": "code",
   "execution_count": null,
   "metadata": {
    "vscode": {
     "languageId": "rust"
    }
   },
   "outputs": [],
   "source": []
  }
 ],
 "metadata": {
  "kernelspec": {
   "display_name": "Rust",
   "language": "rust",
   "name": "rust"
  },
  "language_info": {
   "codemirror_mode": "rust",
   "file_extension": ".rs",
   "mimetype": "text/rust",
   "name": "Rust",
   "pygment_lexer": "rust",
   "version": ""
  }
 },
 "nbformat": 4,
 "nbformat_minor": 2
}
