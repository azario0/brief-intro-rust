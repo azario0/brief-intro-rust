{
 "cells": [
  {
   "cell_type": "markdown",
   "metadata": {},
   "source": [
    "# Brève introduction au langage Rust"
   ]
  },
  {
   "cell_type": "markdown",
   "metadata": {},
   "source": [
    "println!: C'est une macro utilisée pour imprimer du texte dans la console. Le ! à la fin indique qu'il s'agit d'une macro, pas d'une fonction.\n",
    "\n",
    "\"Hello World!\": C'est le texte qui sera imprimé dans la console."
   ]
  },
  {
   "cell_type": "code",
   "execution_count": 4,
   "metadata": {
    "vscode": {
     "languageId": "rust"
    }
   },
   "outputs": [
    {
     "name": "stdout",
     "output_type": "stream",
     "text": [
      "Hello World !\n"
     ]
    }
   ],
   "source": [
    "println!(\"Hello World !\");"
   ]
  },
  {
   "cell_type": "markdown",
   "metadata": {},
   "source": [
    "Création d'un tuple:\n",
    "\n",
    "    let tuple: (i32, f64, u8) = (500, 6.4, 1);\n",
    "    Cette ligne crée un tuple nommé tuple avec trois éléments:\n",
    "\n",
    "        500 (un entier),\n",
    "        6.4 (un nombre à virgule flottante), et\n",
    "        1 (un entier non signé).\n",
    "\n",
    "Destructuration de tuple:\n",
    "\n",
    "    let (x, y, z) = tuple;\n",
    "    Cette ligne déstructure le tuple, affectant le premier élément à x, le second à y, et le troisième à z.\n",
    "\n",
    "Accès aux éléments du tuple:\n",
    "\n",
    "    println!(\"Première valeur: {}\", tuple.0);\n",
    "    Cette ligne imprime le premier élément du tuple (qui est 500) dans la console."
   ]
  },
  {
   "cell_type": "code",
   "execution_count": 5,
   "metadata": {
    "vscode": {
     "languageId": "rust"
    }
   },
   "outputs": [
    {
     "name": "stdout",
     "output_type": "stream",
     "text": [
      "Première valeur: 500\n"
     ]
    }
   ],
   "source": [
    "let tuple: (i32, f64, u8) = (500, 6.4, 1);\n",
    "let (x, y, z) = tuple; \n",
    "println!(\"Première valeur: {}\", tuple.0);"
   ]
  },
  {
   "cell_type": "markdown",
   "metadata": {},
   "source": [
    "Création d'un tableau:\n",
    "\n",
    "    let array = [1, 2, 3, 4, 5];\n",
    "    Cette ligne crée un tableau nommé array avec cinq éléments: 1, 2, 3, 4 et 5.\n",
    "\n",
    "Accès aux éléments du tableau:\n",
    "\n",
    "    println!(\"Élément à l'index 0: {}\", array[0]);\n",
    "    Cette ligne imprime le premier élément du tableau (qui est 1) dans la console. En Rust, l'indexation des tableaux commence à 0, donc array[0] fait référence au premier élément."
   ]
  },
  {
   "cell_type": "code",
   "execution_count": null,
   "metadata": {
    "vscode": {
     "languageId": "rust"
    }
   },
   "outputs": [
    {
     "name": "stdout",
     "output_type": "stream",
     "text": [
      "Élément à l'index 0: 1\n"
     ]
    }
   ],
   "source": [
    "let array = [1, 2, 3, 4, 5];\n",
    "println!(\"Élément à l'index 0: {}\", array[0]);"
   ]
  },
  {
   "cell_type": "markdown",
   "metadata": {},
   "source": [
    "Création de chaîne de caractères:\n",
    "\n",
    "    let s = String::from(\"Hello, Rust!\");\n",
    "    Cette ligne crée un nouvel objet String nommé s avec la valeur \"Hello, Rust!\".\n",
    "\n",
    "Tronçonnage de chaîne de caractères:\n",
    "\n",
    "    let slice = &s[0..6];\n",
    "    Cette ligne crée un tronçonnage de chaîne de caractères nommé slice qui fait référence à une partie de la chaîne originale s.\n",
    "    &s indique que slice est une référence à la chaîne originale, garantissant une efficacité mémoire.\n",
    "    [0..6] spécifie la plage de caractères à inclure dans le tronçonnage:\n",
    "        0 est l'index de départ (inclus).\n",
    "        6 est l'index de fin (exclus).\n",
    "        Par conséquent, le tronçonnage contiendra les caractères des indices 0 à 5, résultant en \"Hello,\".\n",
    "\n",
    "Impression du tronçonnage:\n",
    "\n",
    "    println!(\"Slice: {}\", slice);\n",
    "    Cette ligne imprime la valeur du tronçonnage dans la console, qui sera \"Hello,\"."
   ]
  },
  {
   "cell_type": "code",
   "execution_count": 13,
   "metadata": {
    "vscode": {
     "languageId": "rust"
    }
   },
   "outputs": [
    {
     "name": "stdout",
     "output_type": "stream",
     "text": [
      "Slice: Hello,\n"
     ]
    }
   ],
   "source": [
    "{\n",
    "let s = String::from(\"Hello, Rust!\");\n",
    "let slice = &s[0..6];\n",
    "println!(\"Slice: {}\", slice);\n",
    "};"
   ]
  },
  {
   "cell_type": "markdown",
   "metadata": {},
   "source": [
    " Fonction greet:\n",
    "\n",
    "    fn greet(name: &str):\n",
    "        Cette ligne définit une fonction nommée greet qui prend un paramètre:\n",
    "            name: Une référence à une chaîne de caractères (&str). Cela signifie que la fonction reçoit une emprunt de la chaîne, pas la propriété.\n",
    "    println!(\"Hello, {}!\", name);:\n",
    "        Cette ligne utilise la mise en forme de chaîne pour imprimer le message de salutation dans la console. Le {} placeholder est remplacé par la valeur du paramètre name.\n",
    "\n",
    " Fonction add:\n",
    "\n",
    "    fn add(a: i32, b: i32) -> i32:\n",
    "        Cette ligne définit une fonction nommée add qui prend deux paramètres entiers:\n",
    "            a: Le premier entier.\n",
    "            b: Le deuxième entier.\n",
    "        -> i32: Cette partie spécifie que la fonction renverra une valeur entière.\n",
    "    a + b:\n",
    "        Cette ligne calcule la somme des deux entiers d'entrée.\n",
    "        En Rust, si la dernière expression dans le corps d'une fonction n'est pas suivie d'un point-virgule, elle est implicitement renvoyée comme résultat de la fonction."
   ]
  },
  {
   "cell_type": "code",
   "execution_count": 16,
   "metadata": {
    "vscode": {
     "languageId": "rust"
    }
   },
   "outputs": [
    {
     "name": "stdout",
     "output_type": "stream",
     "text": [
      "Hello, World!\n",
      "5 + 3 = 8\n"
     ]
    }
   ],
   "source": [
    "fn greet(name: &str) {\n",
    "    println!(\"Hello, {}!\", name);\n",
    "}\n",
    "\n",
    "fn add(a: i32, b: i32) -> i32 {\n",
    "    a + b // Retour implicite sans point-virgule\n",
    "}\n",
    "\n",
    " // Appel de la fonction greet\n",
    " greet(\"World\"); \n",
    "\n",
    " // Appel de la fonction add et impression du résultat\n",
    " let sum = add(5, 3); \n",
    " println!(\"5 + 3 = {}\", sum); "
   ]
  },
  {
   "cell_type": "markdown",
   "metadata": {},
   "source": [
    "Déclaration de variable:\n",
    "\n",
    "    let number = 6;\n",
    "    Cette ligne déclare une variable nommée number et lui affecte la valeur entière 6.\n",
    "\n",
    "Vérification conditionnelle:\n",
    "\n",
    "    if number % 2 == 0 { ... } else { ... };\n",
    "    Ceci est un bloc if-else, qui est une structure de contrôle du flux qui exécute des blocs de code différents en fonction d'une condition.\n",
    "    number % 2: Ceci calcule le reste de la division de number par 2.\n",
    "    == 0: Ceci vérifie si le reste est égal à 0. Si le reste est 0, cela signifie que le nombre est divisible par 2, et donc pair.\n",
    "\n",
    "Sortie:\n",
    "\n",
    "    println!(\"Even\");: Si la condition (number % 2 == 0) est vraie (c'est-à-dire que le nombre est pair), cette ligne imprime \"Even\" dans la console.\n",
    "    println!(\"Odd\");: Si la condition est fausse (c'est-à-dire que le nombre est impair), cette ligne imprime \"Odd\" dans la console."
   ]
  },
  {
   "cell_type": "code",
   "execution_count": null,
   "metadata": {
    "vscode": {
     "languageId": "rust"
    }
   },
   "outputs": [
    {
     "name": "stdout",
     "output_type": "stream",
     "text": [
      "Even\n"
     ]
    }
   ],
   "source": [
    "let number = 6;\n",
    "if number % 2 == 0 {\n",
    "    println!(\"Even\");\n",
    "} else {\n",
    "    println!(\"Odd\");\n",
    "};"
   ]
  },
  {
   "cell_type": "markdown",
   "metadata": {},
   "source": [
    "Boucle infinie (avec break):\n",
    "\n",
    "    loop { ... }: Ceci crée une boucle infinie. Le code à l'intérieur des accolades s'exécutera indéfiniment.\n",
    "    println!(\"Running forever\");: Cette ligne imprime \"Running forever\" dans la console à chaque itération de la boucle.\n",
    "    break;: Ce mot-clé quitte immédiatement la boucle, empêchant qu'elle ne s'exécute indéfiniment.\n",
    "\n",
    "Boucle while:\n",
    "\n",
    "    let mut count = 0;: Cette ligne déclare une variable mutable nommée count et l'initialise avec la valeur 0. Le mot-clé mut permet de changer la valeur de count plus tard.\n",
    "    while count < 5 { ... }: Ceci est une boucle while. Le code à l'intérieur des accolades s'exécutera tant que la condition count < 5 reste vraie.\n",
    "    println!(\"{}\", count);: Cette ligne imprime la valeur actuelle de count dans la console.\n",
    "    count += 1;: Cette ligne incrémente la valeur de count de 1 à chaque itération de la boucle.\n",
    "\n",
    "Boucle for:\n",
    "\n",
    "    for number in 1..5 { ... }: Ceci est une boucle for qui itère sur une plage de valeurs.\n",
    "        1..5: Ceci crée une plage de nombres de 1 (inclus) à 5 (exclus).\n",
    "        À chaque itération, la variable number prendra la prochaine valeur dans la plage.\n",
    "    println!(\"{}\", number);: Cette ligne imprime la valeur actuelle de number dans la console."
   ]
  },
  {
   "cell_type": "code",
   "execution_count": 21,
   "metadata": {
    "vscode": {
     "languageId": "rust"
    }
   },
   "outputs": [
    {
     "name": "stdout",
     "output_type": "stream",
     "text": [
      "------------------------\n",
      "loop\n",
      "Running forever\n",
      "------------------------\n",
      "while loop\n",
      "0\n",
      "1\n",
      "2\n",
      "3\n",
      "4\n",
      "------------------------\n",
      "for loop\n",
      "1\n",
      "2\n",
      "3\n",
      "4\n"
     ]
    }
   ],
   "source": [
    "\n",
    "println!(\"------------------------\");\n",
    "println!(\"loop\");\n",
    "loop {\n",
    "    println!(\"Running forever\");\n",
    "    break; // Sortir de la boucle\n",
    "};\n",
    "\n",
    "println!(\"------------------------\");\n",
    "println!(\"while loop\");\n",
    "let mut count = 0;\n",
    "while count < 5 {\n",
    "    println!(\"{}\", count);\n",
    "    count += 1;\n",
    "};\n",
    "\n",
    "println!(\"------------------------\");\n",
    "println!(\"for loop\");\n",
    "for number in 1..5 { // 1 à 4\n",
    "    println!(\"{}\", number);\n",
    "};\n"
   ]
  },
  {
   "cell_type": "code",
   "execution_count": null,
   "metadata": {
    "vscode": {
     "languageId": "rust"
    }
   },
   "outputs": [],
   "source": []
  }
 ],
 "metadata": {
  "kernelspec": {
   "display_name": "Rust",
   "language": "rust",
   "name": "rust"
  },
  "language_info": {
   "codemirror_mode": "rust",
   "file_extension": ".rs",
   "mimetype": "text/rust",
   "name": "Rust",
   "pygment_lexer": "rust",
   "version": ""
  }
 },
 "nbformat": 4,
 "nbformat_minor": 2
}
